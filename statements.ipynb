{
  "nbformat": 4,
  "nbformat_minor": 0,
  "metadata": {
    "colab": {
      "name": "statements.ipynb",
      "provenance": [],
      "toc_visible": true,
      "authorship_tag": "ABX9TyM8P69syj6gVIWFVL7AxJu5",
      "include_colab_link": true
    },
    "kernelspec": {
      "name": "python3",
      "display_name": "Python 3"
    },
    "language_info": {
      "name": "python"
    }
  },
  "cells": [
    {
      "cell_type": "markdown",
      "metadata": {
        "id": "view-in-github",
        "colab_type": "text"
      },
      "source": [
        "<a href=\"https://colab.research.google.com/github/werstatyw/python-functions-noah/blob/main/statements.ipynb\" target=\"_parent\"><img src=\"https://colab.research.google.com/assets/colab-badge.svg\" alt=\"Open In Colab\"/></a>"
      ]
    },
    {
      "cell_type": "code",
      "metadata": {
        "id": "odbivhKBveWo"
      },
      "source": [
        "##Statements\n",
        "#"
      ],
      "execution_count": null,
      "outputs": []
    },
    {
      "cell_type": "markdown",
      "metadata": {
        "id": "WHkjGEE1yO1W"
      },
      "source": [
        "#Lesson 1: Statements\n"
      ]
    },
    {
      "cell_type": "markdown",
      "metadata": {
        "id": "yYdAx5l1yHxG"
      },
      "source": [
        "##Statements"
      ]
    },
    {
      "cell_type": "markdown",
      "metadata": {
        "id": "RHlVo8Mn43ez"
      },
      "source": [
        "###Hello World examples"
      ]
    },
    {
      "cell_type": "code",
      "metadata": {
        "colab": {
          "base_uri": "https://localhost:8080/"
        },
        "id": "uqIhZpUix3Bf",
        "outputId": "93b04f70-03e7-4b91-e8a8-bade3aae1dea"
      },
      "source": [
        "print(\"hello world!\")"
      ],
      "execution_count": 1,
      "outputs": [
        {
          "output_type": "stream",
          "name": "stdout",
          "text": [
            "hello world!\n"
          ]
        }
      ]
    },
    {
      "cell_type": "code",
      "metadata": {
        "colab": {
          "base_uri": "https://localhost:8080/"
        },
        "id": "1bLh-kGr3awB",
        "outputId": "f5746553-6eee-4206-e3cb-695671bd9399"
      },
      "source": [
        "var = \"Apple\"\n",
        "print(f\"this is a good fruit to eat in winter {var}\")"
      ],
      "execution_count": 2,
      "outputs": [
        {
          "output_type": "stream",
          "name": "stdout",
          "text": [
            "this is a good fruit to eat in winter Apple\n"
          ]
        }
      ]
    },
    {
      "cell_type": "code",
      "metadata": {
        "id": "RZNv9Bda35Hv"
      },
      "source": [
        "num = 100"
      ],
      "execution_count": 3,
      "outputs": []
    },
    {
      "cell_type": "code",
      "metadata": {
        "colab": {
          "base_uri": "https://localhost:8080/"
        },
        "id": "oUqFL3o14M9g",
        "outputId": "dc400d54-f137-4622-fb05-ea53a319f6a4"
      },
      "source": [
        "type(num)"
      ],
      "execution_count": 4,
      "outputs": [
        {
          "output_type": "execute_result",
          "data": {
            "text/plain": [
              "int"
            ]
          },
          "metadata": {},
          "execution_count": 4
        }
      ]
    },
    {
      "cell_type": "code",
      "metadata": {
        "colab": {
          "base_uri": "https://localhost:8080/"
        },
        "id": "Zd6b7xYD4SSD",
        "outputId": "ef9e985d-c91e-4e6d-9a12-fe7d2c5b957d"
      },
      "source": [
        "print(f\"The amount of money i like in my wallet {num} dollars\")"
      ],
      "execution_count": 5,
      "outputs": [
        {
          "output_type": "stream",
          "name": "stdout",
          "text": [
            "The amount of money i like in my wallet 100 dollars\n"
          ]
        }
      ]
    },
    {
      "cell_type": "code",
      "metadata": {
        "id": "EaPRlDLe4lY-"
      },
      "source": [
        ""
      ],
      "execution_count": null,
      "outputs": []
    },
    {
      "cell_type": "markdown",
      "metadata": {
        "id": "RcDALGqU7IDe"
      },
      "source": [
        ""
      ]
    },
    {
      "cell_type": "markdown",
      "metadata": {
        "id": "YMWJlOYC7LzM"
      },
      "source": [
        "###Data structures\n"
      ]
    },
    {
      "cell_type": "markdown",
      "metadata": {
        "id": "76du7g3F71DY"
      },
      "source": [
        "#### Variables"
      ]
    },
    {
      "cell_type": "code",
      "metadata": {
        "id": "b9_QjodP7Wyv"
      },
      "source": [
        "var = 1"
      ],
      "execution_count": 6,
      "outputs": []
    },
    {
      "cell_type": "markdown",
      "metadata": {
        "id": "dhnqVNcd8Bv5"
      },
      "source": [
        "#### List"
      ]
    },
    {
      "cell_type": "code",
      "metadata": {
        "id": "zMGVnLd17neH"
      },
      "source": [
        "mylist = []"
      ],
      "execution_count": 8,
      "outputs": []
    },
    {
      "cell_type": "code",
      "metadata": {
        "id": "bqEmBxlW7xAw"
      },
      "source": [
        "mylist.append(1)"
      ],
      "execution_count": 9,
      "outputs": []
    },
    {
      "cell_type": "code",
      "metadata": {
        "id": "1GlqykqE8XIN"
      },
      "source": [
        "mylist.append(1)"
      ],
      "execution_count": 10,
      "outputs": []
    },
    {
      "cell_type": "code",
      "metadata": {
        "colab": {
          "base_uri": "https://localhost:8080/"
        },
        "id": "a-sMtMej8cQj",
        "outputId": "140f8ab2-a08e-4f34-a775-52d41133d20b"
      },
      "source": [
        "##how many items\n",
        "len(mylist)"
      ],
      "execution_count": 11,
      "outputs": [
        {
          "output_type": "execute_result",
          "data": {
            "text/plain": [
              "2"
            ]
          },
          "metadata": {},
          "execution_count": 11
        }
      ]
    },
    {
      "cell_type": "code",
      "metadata": {
        "colab": {
          "base_uri": "https://localhost:8080/"
        },
        "id": "huAUEcwN80jG",
        "outputId": "8cb13eea-8520-4397-f57a-55972f070445"
      },
      "source": [
        "print(mylist)"
      ],
      "execution_count": 12,
      "outputs": [
        {
          "output_type": "stream",
          "name": "stdout",
          "text": [
            "[1, 1]\n"
          ]
        }
      ]
    },
    {
      "cell_type": "code",
      "metadata": {
        "id": "SVvyFbj49Dmc"
      },
      "source": [
        "##many things at once\n",
        "another_list =[1,2,3,4,5,6,7,8,9,10]"
      ],
      "execution_count": 14,
      "outputs": []
    },
    {
      "cell_type": "code",
      "metadata": {
        "colab": {
          "base_uri": "https://localhost:8080/"
        },
        "id": "_MBBJEeD9VwF",
        "outputId": "95efd7f4-8ad4-4dc2-e466-c209337fa6cb"
      },
      "source": [
        "len(another_list)"
      ],
      "execution_count": 15,
      "outputs": [
        {
          "output_type": "execute_result",
          "data": {
            "text/plain": [
              "10"
            ]
          },
          "metadata": {},
          "execution_count": 15
        }
      ]
    },
    {
      "cell_type": "code",
      "metadata": {
        "colab": {
          "base_uri": "https://localhost:8080/"
        },
        "id": "SsIZCv1o9m04",
        "outputId": "291b61f3-950d-43cc-cffb-89fb9db279d4"
      },
      "source": [
        "## grab 2 items from the top\n",
        "another_list[0:2]"
      ],
      "execution_count": 17,
      "outputs": [
        {
          "output_type": "execute_result",
          "data": {
            "text/plain": [
              "[1, 2]"
            ]
          },
          "metadata": {},
          "execution_count": 17
        }
      ]
    },
    {
      "cell_type": "code",
      "metadata": {
        "colab": {
          "base_uri": "https://localhost:8080/"
        },
        "id": "eH_TpKuz-DkH",
        "outputId": "b00cf9af-8955-48f5-96bc-f76e149ef8f7"
      },
      "source": [
        "#things you can do\n",
        "#everyting but last two\n",
        "another_list[:-2]"
      ],
      "execution_count": 20,
      "outputs": [
        {
          "output_type": "execute_result",
          "data": {
            "text/plain": [
              "[1, 2, 3, 4, 5, 6, 7, 8]"
            ]
          },
          "metadata": {},
          "execution_count": 20
        }
      ]
    },
    {
      "cell_type": "code",
      "metadata": {
        "colab": {
          "base_uri": "https://localhost:8080/"
        },
        "id": "2s_262Z---Ya",
        "outputId": "0ec8e7db-5ef2-4391-c754-4f55f7748139"
      },
      "source": [
        "#only last two\n",
        "another_list[-2:]"
      ],
      "execution_count": 21,
      "outputs": [
        {
          "output_type": "execute_result",
          "data": {
            "text/plain": [
              "[9, 10]"
            ]
          },
          "metadata": {},
          "execution_count": 21
        }
      ]
    }
  ]
}