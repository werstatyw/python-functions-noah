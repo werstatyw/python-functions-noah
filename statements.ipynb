{
  "nbformat": 4,
  "nbformat_minor": 0,
  "metadata": {
    "colab": {
      "name": "statements.ipynb",
      "provenance": [],
      "authorship_tag": "ABX9TyOpDBkaUvaU41Cp/DG3dWTg",
      "include_colab_link": true
    },
    "kernelspec": {
      "name": "python3",
      "display_name": "Python 3"
    },
    "language_info": {
      "name": "python"
    }
  },
  "cells": [
    {
      "cell_type": "markdown",
      "metadata": {
        "id": "view-in-github",
        "colab_type": "text"
      },
      "source": [
        "<a href=\"https://colab.research.google.com/github/werstatyw/python-functions-noah/blob/main/statements.ipynb\" target=\"_parent\"><img src=\"https://colab.research.google.com/assets/colab-badge.svg\" alt=\"Open In Colab\"/></a>"
      ]
    },
    {
      "cell_type": "code",
      "metadata": {
        "id": "odbivhKBveWo"
      },
      "source": [
        "##Statements\n",
        "#"
      ],
      "execution_count": null,
      "outputs": []
    },
    {
      "cell_type": "markdown",
      "metadata": {
        "id": "WHkjGEE1yO1W"
      },
      "source": [
        "##Lesson 1: Statements\n"
      ]
    },
    {
      "cell_type": "markdown",
      "metadata": {
        "id": "yYdAx5l1yHxG"
      },
      "source": [
        "##Statements"
      ]
    },
    {
      "cell_type": "code",
      "metadata": {
        "colab": {
          "base_uri": "https://localhost:8080/"
        },
        "id": "uqIhZpUix3Bf",
        "outputId": "93b04f70-03e7-4b91-e8a8-bade3aae1dea"
      },
      "source": [
        "print(\"hello world!\")"
      ],
      "execution_count": 1,
      "outputs": [
        {
          "output_type": "stream",
          "name": "stdout",
          "text": [
            "hello world!\n"
          ]
        }
      ]
    },
    {
      "cell_type": "code",
      "metadata": {
        "colab": {
          "base_uri": "https://localhost:8080/"
        },
        "id": "1bLh-kGr3awB",
        "outputId": "f5746553-6eee-4206-e3cb-695671bd9399"
      },
      "source": [
        "var = \"Apple\"\n",
        "print(f\"this is a good fruit to eat in winter {var}\")"
      ],
      "execution_count": 2,
      "outputs": [
        {
          "output_type": "stream",
          "name": "stdout",
          "text": [
            "this is a good fruit to eat in winter Apple\n"
          ]
        }
      ]
    },
    {
      "cell_type": "code",
      "metadata": {
        "id": "RZNv9Bda35Hv"
      },
      "source": [
        "num = 100"
      ],
      "execution_count": 3,
      "outputs": []
    },
    {
      "cell_type": "code",
      "metadata": {
        "colab": {
          "base_uri": "https://localhost:8080/"
        },
        "id": "oUqFL3o14M9g",
        "outputId": "dc400d54-f137-4622-fb05-ea53a319f6a4"
      },
      "source": [
        "type(num)"
      ],
      "execution_count": 4,
      "outputs": [
        {
          "output_type": "execute_result",
          "data": {
            "text/plain": [
              "int"
            ]
          },
          "metadata": {},
          "execution_count": 4
        }
      ]
    },
    {
      "cell_type": "code",
      "metadata": {
        "colab": {
          "base_uri": "https://localhost:8080/"
        },
        "id": "Zd6b7xYD4SSD",
        "outputId": "ef9e985d-c91e-4e6d-9a12-fe7d2c5b957d"
      },
      "source": [
        "print(f\"The amount of money i like in my wallet {num} dollars\")"
      ],
      "execution_count": 5,
      "outputs": [
        {
          "output_type": "stream",
          "name": "stdout",
          "text": [
            "The amount of money i like in my wallet 100 dollars\n"
          ]
        }
      ]
    },
    {
      "cell_type": "code",
      "metadata": {
        "id": "EaPRlDLe4lY-"
      },
      "source": [
        ""
      ],
      "execution_count": null,
      "outputs": []
    }
  ]
}